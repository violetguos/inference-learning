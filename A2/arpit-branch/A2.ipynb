{
 "cells": [
  {
   "cell_type": "code",
   "execution_count": null,
   "metadata": {},
   "outputs": [],
   "source": [
    "import tensorflow as tf\n",
    "import numpy as np\n",
    "import matplotlib.pyplot as plt"
   ]
  },
  {
   "cell_type": "code",
   "execution_count": null,
   "metadata": {},
   "outputs": [],
   "source": []
  },
  {
   "cell_type": "code",
   "execution_count": null,
   "metadata": {},
   "outputs": [],
   "source": [
    "with np.load(\"notMNIST.npz\") as data :\n",
    "    Data, Target = data [\"images\"], data[\"labels\"]\n",
    "    posClass = 2\n",
    "    negClass = 9\n",
    "    dataIndx = (Target==posClass) + (Target==negClass)\n",
    "    Data = Data[dataIndx]/255.\n",
    "    Target = Target[dataIndx].reshape(-1, 1)\n",
    "    Target[Target==posClass] = 1\n",
    "    Target[Target==negClass] = 0\n",
    "    np.random.seed(521)\n",
    "    randIndx = np.arange(len(Data))\n",
    "    np.random.shuffle(randIndx)\n",
    "    Data, Target = Data[randIndx], Target[randIndx]\n",
    "    trainData, trainTarget = Data[:3500], Target[:3500]\n",
    "    validData, validTarget = Data[3500:3600], Target[3500:3600]\n",
    "    testData, testTarget = Data[3600:], Target[3600:]"
   ]
  },
  {
   "cell_type": "code",
   "execution_count": null,
   "metadata": {},
   "outputs": [],
   "source": [
    "trainData = np.reshape(trainData, [trainData.shape[0], 28*28])\n",
    "validData = np.reshape(validData, [validData.shape[0], 28*28])\n",
    "testData = np.reshape(testData, [testData.shape[0], 28*28])"
   ]
  },
  {
   "cell_type": "code",
   "execution_count": null,
   "metadata": {},
   "outputs": [],
   "source": [
    "def mse_loss(yhat, target):\n",
    "    loss = tf.reduce_mean(tf.pow(tf.subtract(yhat, target), 2))\n",
    "    loss = tf.div(loss, 2)\n",
    "    return loss"
   ]
  },
  {
   "cell_type": "code",
   "execution_count": null,
   "metadata": {},
   "outputs": [],
   "source": [
    "#hyperparameters\n",
    "# learning_rates = [0.005, 0.001, 0.0001]\n",
    "learning_rates = [0.005]\n",
    "mini_batch = 500\n",
    "reg_coeff = 0.0\n",
    "train_iter = 20000\n",
    "train_loss = []"
   ]
  },
  {
   "cell_type": "code",
   "execution_count": null,
   "metadata": {},
   "outputs": [],
   "source": [
    "for learning_rate in learning_rates:\n",
    "    \n",
    "    tf.reset_default_graph()\n",
    "    train_loss_curr = []\n",
    "    \n",
    "    x = tf.placeholder(tf.float32, shape = [None, 784])\n",
    "    y = tf.placeholder(tf.float32, shape = [None, 1])\n",
    "\n",
    "    w = tf.Variable(np.random.randn())\n",
    "    b = tf.cast(tf.Variable(0), dtype = tf.float32)\n",
    "    yhat = tf.add(tf.multiply(x, w), b)\n",
    "\n",
    "    mse = mse_loss(yhat, y)\n",
    "    regul = tf.multiply(reg_coeff, tf.reduce_mean(tf.square(w)))\n",
    "    cost = tf.add(mse, regul)\n",
    "    optimizer = tf.train.GradientDescentOptimizer(learning_rate).minimize(cost)\n",
    "    \n",
    "    init = tf.global_variables_initializer()\n",
    "    sess = tf.Session()\n",
    "    sess.run(init)\n",
    "    \n",
    "    for epoch in range(train_iter):\n",
    "        x_batch, y_batch = tf.train.batch([trainData, trainTarget], mini_batch)\n",
    "        \n",
    "        \n",
    "\n",
    "        \n",
    "        sess.run(optimizer, feed_dict = {x: x_batch, y:y_batch})\n",
    "        w_curr, b_curr, c = sess.run([w, b, cost], feed_dict = {x: x_batch, y:y_batch})\n",
    "        train_loss_curr.append(c)\n",
    "        \n",
    "        if epoch%3500 is 0:\n",
    "            print(\"curr loss:\", c)\n",
    "            print(\"epoch:\", epoch/3500)\n",
    "            \n",
    "    train_loss.append(train_loss_curr)\n",
    "    \n",
    "print(\"done\")"
   ]
  },
  {
   "cell_type": "code",
   "execution_count": null,
   "metadata": {},
   "outputs": [],
   "source": [
    "plotx = np.linspace(0, train_iter, train_iter)\n",
    "ploty = np.array(train_loss)\n",
    "\n",
    "for i in range(ploty.shape[0]):\n",
    "    plt.plot(plotx, ploty[i])\n",
    "\n",
    "plt.show()"
   ]
  },
  {
   "cell_type": "code",
   "execution_count": null,
   "metadata": {},
   "outputs": [],
   "source": []
  }
 ],
 "metadata": {
  "kernelspec": {
   "display_name": "Python 3",
   "language": "python",
   "name": "python3"
  },
  "language_info": {
   "codemirror_mode": {
    "name": "ipython",
    "version": 3
   },
   "file_extension": ".py",
   "mimetype": "text/x-python",
   "name": "python",
   "nbconvert_exporter": "python",
   "pygments_lexer": "ipython3",
   "version": "3.6.2"
  }
 },
 "nbformat": 4,
 "nbformat_minor": 2
}
