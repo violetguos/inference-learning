{
 "cells": [
  {
   "cell_type": "code",
   "execution_count": 2,
   "metadata": {},
   "outputs": [
    {
     "name": "stdout",
     "output_type": "stream",
     "text": [
      "4\n",
      "<tf.Variable 'a:0' shape=(4, 3) dtype=float32_ref>\n"
     ]
    }
   ],
   "source": [
    "import tensorflow as tf\n",
    "from __future__ import print_function\n",
    "import numpy as np\n",
    "import matplotlib.pyplot as plt\n",
    "\n",
    "def buildLayer(_inputTensor, _numUnits):\n",
    "    '''\n",
    "    input:\n",
    "    _inputTensor S = θ(Xprev)from the prev layer\n",
    "    _numUnits is the num of neurons in this layer\n",
    "    \n",
    "    intermediate xavierInit:\n",
    "        W is initialized as Xavier\n",
    "        W is input.shape[1] by num units\n",
    "    \n",
    "    output:\n",
    "    weighted sum of inputs\n",
    "    \n",
    "    '''\n",
    "    \n",
    "    # zero mean independent Gaussians whose variance is 3/(#input + #outputs)\n",
    "    dim1 = _inputTensor.get_shape()[0]\n",
    "    W = tf.get_variable(\"a\", shape = [dim1, _numUnits], initializer=tf.contrib.layers.xavier_initializer())\n",
    "    b = tf.Variable(0.0, name='biases')\n",
    "    \n",
    "    \n",
    "if __name__ == '__main__':  \n",
    "    \n",
    "    a = tf.constant([3.0, 2.0, 4.0, 5.0])\n",
    "    b = 3\n",
    "    xavierInit(a, b)\n",
    "    "
   ]
  }
 ],
 "metadata": {
  "kernelspec": {
   "display_name": "Python 3",
   "language": "python",
   "name": "python3"
  },
  "language_info": {
   "codemirror_mode": {
    "name": "ipython",
    "version": 3
   },
   "file_extension": ".py",
   "mimetype": "text/x-python",
   "name": "python",
   "nbconvert_exporter": "python",
   "pygments_lexer": "ipython3",
   "version": "3.6.4"
  }
 },
 "nbformat": 4,
 "nbformat_minor": 2
}
