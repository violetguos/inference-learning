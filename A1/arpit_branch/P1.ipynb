{
 "cells": [
  {
   "cell_type": "code",
   "execution_count": 12,
   "metadata": {},
   "outputs": [],
   "source": [
    "import numpy as np\n",
    "import tensorflow as tf\n",
    "from __future__ import print_function"
   ]
  },
  {
   "cell_type": "code",
   "execution_count": 35,
   "metadata": {},
   "outputs": [],
   "source": [
    "def euclidean_dist(x, z):\n",
    "    \n",
    "    #||x - z||^2 = x.T*x - 2*x*z.T + z.T*z\n",
    "    \n",
    "    x2 = tf.matmul(x ,tf.transpose(x))\n",
    "    z2 = tf.matmul(z ,tf.transpose(z))\n",
    "    \n",
    "    x2_sum = tf.reduce_sum(x2, axis = 1)\n",
    "    z2_sum = tf.reduce_sum(z2, axis = 1)\n",
    "    \n",
    "    xt = tf.transpose(x2_sum)\n",
    "    zt = tf.transpose(z2_sum)\n",
    "    \n",
    "    xz = tf.matmul(x, tf.transpose(z))\n",
    "    minus_xz = tf.scalar_mul(-2, xz)\n",
    "    \n",
    "    xt = tf.expand_dims(xt, axis = 1)\n",
    "    zt = tf.expand_dims(zt, axis = 1)\n",
    "    zt = tf.transpose(zt)\n",
    "    \n",
    "    xz2 = xt + zt + minus_xz\n",
    "    \n",
    "    return xz2"
   ]
  },
  {
   "cell_type": "code",
   "execution_count": 43,
   "metadata": {},
   "outputs": [
    {
     "name": "stdout",
     "output_type": "stream",
     "text": [
      "[[28 36 44]\n",
      " [44 48 52]\n",
      " [60 60 60]\n",
      " [76 72 68]]\n"
     ]
    }
   ],
   "source": [
    "sess = tf.Session()\n",
    "\n",
    "a = tf.constant([[1, 1], [2, 2], [3, 3], [4, 4]])\n",
    "b = tf.constant([[1, 1], [2, 2], [3, 3]])\n",
    "\n",
    "c = euclidean_dist(a, b)\n",
    "print(sess.run(c))\n"
   ]
  },
  {
   "cell_type": "code",
   "execution_count": null,
   "metadata": {},
   "outputs": [],
   "source": []
  }
 ],
 "metadata": {
  "kernelspec": {
   "display_name": "Python 3",
   "language": "python",
   "name": "python3"
  },
  "language_info": {
   "codemirror_mode": {
    "name": "ipython",
    "version": 3
   },
   "file_extension": ".py",
   "mimetype": "text/x-python",
   "name": "python",
   "nbconvert_exporter": "python",
   "pygments_lexer": "ipython3",
   "version": "3.6.2"
  }
 },
 "nbformat": 4,
 "nbformat_minor": 2
}
