{
 "cells": [
  {
   "cell_type": "markdown",
   "metadata": {},
   "source": [
    "# P1 - Eucidean Distance"
   ]
  },
  {
   "cell_type": "code",
   "execution_count": 4,
   "metadata": {},
   "outputs": [],
   "source": [
    "import numpy as np\n",
    "import tensorflow as tf\n",
    "from __future__ import print_function\n",
    "import matplotlib.pyplot as plt"
   ]
  },
  {
   "cell_type": "code",
   "execution_count": 5,
   "metadata": {},
   "outputs": [],
   "source": [
    "def euclidean_dist(x, z):\n",
    "    \n",
    "    #||x - z||^2 = x.T*x - 2*x*z.T + z.T*z\n",
    "    \n",
    "    x2 = tf.matmul(x ,tf.transpose(x))\n",
    "    z2 = tf.matmul(z ,tf.transpose(z))\n",
    "    \n",
    "    x2_sum = tf.reduce_sum(x2, axis = 1)\n",
    "    z2_sum = tf.reduce_sum(z2, axis = 1)\n",
    "    \n",
    "    xt = tf.transpose(x2_sum)\n",
    "    zt = tf.transpose(z2_sum)\n",
    "    \n",
    "    xz = tf.matmul(x, tf.transpose(z))\n",
    "    minus_xz = tf.scalar_mul(-2, xz)\n",
    "    \n",
    "    xt = tf.expand_dims(xt, axis = 1)\n",
    "    zt = tf.expand_dims(zt, axis = 1)\n",
    "    zt = tf.transpose(zt)\n",
    "    \n",
    "    xz2 = xt + zt + minus_xz\n",
    "    \n",
    "    return xz2"
   ]
  },
  {
   "cell_type": "code",
   "execution_count": 6,
   "metadata": {},
   "outputs": [
    {
     "name": "stdout",
     "output_type": "stream",
     "text": [
      "[[48 62 76]\n",
      " [60 70 80]\n",
      " [72 78 84]\n",
      " [84 86 88]]\n"
     ]
    }
   ],
   "source": [
    "sess = tf.Session()\n",
    "\n",
    "a = tf.constant([[1, 1], [2, 2], [3, 3], [4, 4]])\n",
    "b = tf.constant([[2, 2], [3, 3], [4, 4]])\n",
    "\n",
    "c = euclidean_dist(a, b)\n",
    "print(sess.run(c))\n"
   ]
  },
  {
   "cell_type": "markdown",
   "metadata": {},
   "source": [
    "# P2 "
   ]
  },
  {
   "cell_type": "code",
   "execution_count": 8,
   "metadata": {},
   "outputs": [],
   "source": [
    "def pairwise_dist(data1, data2):\n",
    "    data1 = tf.convert_to_tensor(data1)\n",
    "    data2 = tf.convert_to_tensor(data2)\n",
    "    \n",
    "    dist = euclidean_dist(data1, data2)\n",
    "    return dist\n",
    "\n",
    "def knn_predict(_trainData, _trainTarget, _X, _k):\n",
    "    dist = pairwise_dist(_trainData, _X)\n",
    "    near_k, near_id = tf.nn.top_k(dist, _k)\n",
    "    respon = tf.gather(_trainData, near_id)\n",
    "    respon = tf.reduce_mean(respon, axis = 1)\n",
    "    \n",
    "    return respon\n",
    "    "
   ]
  },
  {
   "cell_type": "code",
   "execution_count": 13,
   "metadata": {},
   "outputs": [
    {
     "name": "stdout",
     "output_type": "stream",
     "text": [
      "[[40 54 68]\n",
      " [44 54 64]\n",
      " [48 54 60]]\n"
     ]
    }
   ],
   "source": [
    "sess = tf.Session()\n",
    "\n",
    "a = tf.constant([[1, 1], [2, 2], [3, 3]])\n",
    "b = tf.constant([[2, 2], [3, 3], [4, 4]])\n",
    "\n",
    "c = pairwise_dist(a, b)\n",
    "print(sess.run(c))"
   ]
  },
  {
   "cell_type": "code",
   "execution_count": null,
   "metadata": {},
   "outputs": [],
   "source": [
    "def mse_loss(trainData, trainTarget, testData, testTarget):\n",
    "    \n",
    "    \n",
    "    return loss"
   ]
  },
  {
   "cell_type": "code",
   "execution_count": 10,
   "metadata": {},
   "outputs": [],
   "source": [
    "def plot(_trainData, _trainTarget):\n",
    "    X = np.linspace(0.0, 11.0, num = 1000) [:, np.newaxis]\n",
    "    X = tf.convert_to_tensor(X)\n",
    "    \n",
    "    k_list = [1, 3, 5, 50]\n",
    "    \n",
    "    for k in k_list:\n",
    "        "
   ]
  },
  {
   "cell_type": "code",
   "execution_count": 7,
   "metadata": {},
   "outputs": [],
   "source": [
    "np.random.seed(521)\n",
    "Data = np.linspace(1.0 , 10.0 , num =100) [:, np. newaxis]\n",
    "Target = np.sin( Data ) + 0.1 * np.power( Data , 2) \\\n",
    "+ 0.5 * np.random.randn(100 , 1)\n",
    "randIdx = np.arange(100)\n",
    "np.random.shuffle(randIdx)\n",
    "trainData, trainTarget = Data[randIdx[:80]], Target[randIdx[:80]]\n",
    "validData, validTarget = Data[randIdx[80:90]], Target[randIdx[80:90]]\n",
    "testData, testTarget = Data[randIdx[90:100]], Target[randIdx[90:100]]\n",
    "\n",
    "trainData = tf.convert_to_tensor(trainData)\n",
    "trainTarget = tf.convert_to_tensor(trainTarget)\n",
    "testData = tf.convert_to_tensor(testData)\n",
    "testTarget = tf.convert_to_tensor(testTarget)\n",
    "validData = tf.convert_to_tensor(validData)\n",
    "validtarget = tf.convert_to_tensor(validTarget)"
   ]
  },
  {
   "cell_type": "code",
   "execution_count": null,
   "metadata": {},
   "outputs": [],
   "source": []
  }
 ],
 "metadata": {
  "kernelspec": {
   "display_name": "Python 3",
   "language": "python",
   "name": "python3"
  }
 },
 "nbformat": 4,
 "nbformat_minor": 2
}
