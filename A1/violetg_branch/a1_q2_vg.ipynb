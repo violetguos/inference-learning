{
 "cells": [
  {
   "cell_type": "code",
   "execution_count": 16,
   "metadata": {},
   "outputs": [
    {
     "name": "stdout",
     "output_type": "stream",
     "text": [
      "y [1 2 4 7 8]\n",
      "idx [0 0 1 2 2 2 3 4 4]\n",
      "votes [2 1 3 1 2]\n",
      "majority 2\n",
      "predict 4\n"
     ]
    },
    {
     "data": {
      "text/plain": [
       "<tf.Tensor 'Gather_18:0' shape=() dtype=int32>"
      ]
     },
     "execution_count": 16,
     "metadata": {},
     "output_type": "execute_result"
    }
   ],
   "source": [
    "import tensorflow as tf\n",
    "from __future__ import print_function\n",
    "import numpy as np\n",
    "import matplotlib.pyplot as plt\n",
    "\n",
    "def knnVote():\n",
    "    '''\n",
    "    KNN using majority vote\n",
    "    '''\n",
    "    #nearest indices\n",
    "    A = tf.constant([1, 1, 2, 4, 4, 4, 7, 8, 8])\n",
    "\n",
    "\n",
    "    nearest_k_y, idx, votes = tf.unique_with_counts(A)\n",
    "    print(\"y\", nearest_k_y.eval())\n",
    "    print(\"idx\", idx.eval())\n",
    "    print(\"votes\", votes.eval())\n",
    "    majority = tf.argmax(votes)\n",
    "    predict_res = tf.gather(nearest_k_y, majority)\n",
    "    \n",
    "    \n",
    "    print(\"majority\", majority.eval())\n",
    "    print(\"predict\", predict_res.eval())\n",
    "    return predict_res\n",
    "\n",
    "init = tf.global_variables_initializer()\n",
    "sessMain = tf.InteractiveSession()\n",
    "sessMain.run(init)\n",
    "knnVote()\n",
    "\n"
   ]
  },
  {
   "cell_type": "code",
   "execution_count": null,
   "metadata": {},
   "outputs": [],
   "source": []
  }
 ],
 "metadata": {
  "kernelspec": {
   "display_name": "Python 3",
   "language": "python",
   "name": "python3"
  },
  "language_info": {
   "codemirror_mode": {
    "name": "ipython",
    "version": 3
   },
   "file_extension": ".py",
   "mimetype": "text/x-python",
   "name": "python",
   "nbconvert_exporter": "python",
   "pygments_lexer": "ipython3",
   "version": "3.6.4"
  }
 },
 "nbformat": 4,
 "nbformat_minor": 2
}
