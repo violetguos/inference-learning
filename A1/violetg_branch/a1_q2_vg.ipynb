{
 "cells": [
  {
   "cell_type": "code",
   "execution_count": 4,
   "metadata": {},
   "outputs": [
    {
     "name": "stdout",
     "output_type": "stream",
     "text": [
      "[ True  True  True  True  True  True  True  True  True]\n"
     ]
    }
   ],
   "source": [
    "import tensorflow as tf\n",
    "from __future__ import print_function\n",
    "import numpy as np\n",
    "import matplotlib.pyplot as plt\n",
    "\n",
    "def knnVote():\n",
    "    '''\n",
    "    KNN using majority vote\n",
    "    '''\n",
    "    #nearest indices\n",
    "    A = tf.constant([1, 1, 2, 4, 4, 4, 7, 8, 8])\n",
    "    A = tf.constant([1, 1, 2, 4, 4, 4, 7, 8, 8])\n",
    "    print(A.shape)\n",
    "\n",
    "    nearest_k_y, idx, votes = tf.unique_with_counts(A)\n",
    "    print(\"y\", nearest_k_y.eval())\n",
    "    print(\"idx\", idx.eval())\n",
    "    print(\"votes\", votes.eval())\n",
    "    majority = tf.argmax(votes)\n",
    "    predict_res = tf.gather(nearest_k_y, majority)\n",
    "    \n",
    "    \n",
    "    print(\"majority\", majority.eval())\n",
    "    print(\"predict\", predict_res.eval())\n",
    "    return predict_res\n",
    "\n",
    "def err():\n",
    "    #nearest indices\n",
    "    A = tf.constant([1, 1, 2, 4, 4, 4, 7, 8, 8])\n",
    "    B = tf.constant([1, 1, 2, 4, 4, 4, 7, 8, 8])\n",
    "    loss = tf.equal(A, B )\n",
    "    print(loss.eval())\n",
    "\n",
    "init = tf.global_variables_initializer()\n",
    "sessMain = tf.InteractiveSession()\n",
    "sessMain.run(init)\n",
    "err()\n",
    "\n"
   ]
  },
  {
   "cell_type": "code",
   "execution_count": 8,
   "metadata": {},
   "outputs": [
    {
     "name": "stdout",
     "output_type": "stream",
     "text": [
      "majority: [2 1]\n",
      "predict: [4 3]\n"
     ]
    }
   ],
   "source": [
    "#def multidimensionalKnnVote():\n",
    "A = tf.constant([\n",
    "    [1, 1, 2, 4, 4, 4, 7, 8, 8],\n",
    "    [2, 2, 3, 3, 3, 4, 4, 5, 6],\n",
    "  ])\n",
    "\n",
    "def cond(i, all_idxs, all_vals):\n",
    "    return i < A.shape[0]\n",
    "\n",
    "def body(i, all_idxs, all_vals):\n",
    "    nearest_k_y, idx, votes = tf.unique_with_counts(A[i])\n",
    "    majority_idx = tf.argmax(votes)\n",
    "    majority_val = nearest_k_y[majority_idx]\n",
    "\n",
    "    majority_idx = tf.reshape(majority_idx, shape=(1,))\n",
    "    majority_val = tf.reshape(majority_val, shape=(1,))\n",
    "\n",
    "    new_idxs = tf.cond(tf.equal(i, 0),\n",
    "                       lambda: majority_idx,\n",
    "                       lambda: tf.concat([all_idxs, majority_idx], axis=0))\n",
    "\n",
    "    new_vals = tf.cond(tf.equal(i, 0),\n",
    "                       lambda: majority_val,\n",
    "                       lambda: tf.concat([all_vals, majority_val], axis=0))\n",
    "\n",
    "    return i + 1, new_idxs, new_vals\n",
    "\n",
    "# This means: starting from 0, apply the `body`, while the `cond` is true.\n",
    "# Note that `shape_invariants` allow the 2nd and 3rd tensors to grow.\n",
    "i0 = tf.constant(0)\n",
    "idx0 = tf.constant(0, shape=(1,), dtype=tf.int64)\n",
    "val0 = tf.constant(0, shape=(1,), dtype=tf.int32)\n",
    "_, idxs, vals = tf.while_loop(cond, body,\n",
    "                                loop_vars=(i0, idx0, val0),\n",
    "                                shape_invariants=(i0.shape, tf.TensorShape([None]), tf.TensorShape([None])))\n",
    "\n",
    "print('majority:', idxs.eval())\n",
    "print('predict:', vals.eval())"
   ]
  },
  {
   "cell_type": "code",
   "execution_count": null,
   "metadata": {},
   "outputs": [],
   "source": []
  }
 ],
 "metadata": {
  "kernelspec": {
   "display_name": "Python 3",
   "language": "python",
   "name": "python3"
  },
  "language_info": {
   "codemirror_mode": {
    "name": "ipython",
    "version": 3
   },
   "file_extension": ".py",
   "mimetype": "text/x-python",
   "name": "python",
   "nbconvert_exporter": "python",
   "pygments_lexer": "ipython3",
   "version": "3.6.4"
  }
 },
 "nbformat": 4,
 "nbformat_minor": 2
}
