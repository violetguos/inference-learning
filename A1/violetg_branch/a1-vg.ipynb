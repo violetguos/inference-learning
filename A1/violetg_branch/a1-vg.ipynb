{
 "cells": [
  {
   "cell_type": "code",
   "execution_count": 94,
   "metadata": {},
   "outputs": [],
   "source": [
    "import tensorflow as tf\n",
    "from __future__ import print_function\n",
    "import numpy as np\n"
   ]
  },
  {
   "cell_type": "markdown",
   "metadata": {},
   "source": [
    "## A1 Q1\n",
    "Euclidean distance function, vectorized    "
   ]
  },
  {
   "cell_type": "code",
   "execution_count": 90,
   "metadata": {
    "scrolled": false
   },
   "outputs": [
    {
     "name": "stdout",
     "output_type": "stream",
     "text": [
      "----my func----\n",
      "[[ 0  2  8]\n",
      " [ 2  0  2]\n",
      " [ 8  2  0]\n",
      " [18  8  2]]\n",
      "---diff square---\n",
      "[[ 0  2  8]\n",
      " [ 2  0  2]\n",
      " [ 8  2  0]\n",
      " [18  8  2]]\n"
     ]
    }
   ],
   "source": [
    "def euclideanDistance(x, z):\n",
    "    '''\n",
    "    We vectorized the operation with matrix operations\n",
    "    the ||x - z ||^2 is = Sum(x - z)^2 = Sum from 1 to D\n",
    "    of (x^2 - 2xz + z^2)\n",
    "    \n",
    "    x^2 = x^T times x\n",
    "    z^2 = z^T times z\n",
    "    we can find the sum of each row by using the reduce sum function\n",
    "    \n",
    "    sum of -2xz \n",
    "    we can use matrix multiplication, x times z^T to obtain xz,\n",
    "    then multiply by -2\n",
    "    '''\n",
    "    n1 = x.shape[0]\n",
    "    n2 = z.shape[0]    \n",
    "    \n",
    "    x_squared = tf.square(x)\n",
    "    z_squared = tf.square(z) #tf.matmul(z ,tf.transpose(z))\n",
    "    #print(\"x_squared.eval()\")\n",
    "    #print(x_squared.eval())\n",
    "    x_2_sum = tf.reduce_sum(x_squared, 1)\n",
    "    z_2_sum = tf.reduce_sum(z_squared, 1)\n",
    "    \n",
    "    x_2_sum = tf.transpose(x_2_sum)\n",
    "    z_2_sum = tf.transpose(z_2_sum)\n",
    "    #x_2_sum = tf.reshape(x_2_sum, [-1, 1])\n",
    "    #z_2_sum = tf.reshape(z_2_sum, [-1, 1])\n",
    "    #print(\"x_2_sum.eval()\")\n",
    "    #print(x_2_sum.eval())\n",
    "    \n",
    "    xz = tf.matmul(x, tf.transpose(z))\n",
    "    #print(xz.eval())\n",
    "    minus_2xz = tf.scalar_mul(-2, xz)\n",
    "    #print(minus_2xz.eval())\n",
    " \n",
    "    x_2_tile =tf.tile(tf.expand_dims(x_2_sum, 1), [1, n2])\n",
    "    z_2_tile = tf.tile(tf.expand_dims(z_2_sum ,1), [1, n1])\n",
    "    z_2_tile_T = tf.transpose(z_2_tile)\n",
    "    #print(x_2_tile.eval())\n",
    "    #print(z_2_tile_T.eval())\n",
    "    \n",
    "    result = x_2_tile + minus_2xz +z_2_tile_T\n",
    "    \n",
    "    return result\n",
    "\n",
    "\"\"\"VERIFIED\"\"\"\n",
    "\n",
    "def testi():\n",
    "    A = tf.constant([[1, 1], [2,2], [3, 3], [4,4]])\n",
    "    B = tf.constant([[1, 1], [2, 2],[3,3]])\n",
    "    res_mine = euclideanDistance(A, B)\n",
    "    \n",
    "    print(\"----my func----\")\n",
    "    print(res_mine.eval())\n",
    "    print(\"---diff square---\")\n",
    "    res_lib = PairwiseDistances(A, B)\n",
    "    print(res_lib.eval())\n",
    "    "
   ]
  },
  {
   "cell_type": "markdown",
   "metadata": {},
   "source": [
    "## A1 Q2\n",
    "### part 1\n",
    "\n",
    "| x1^T | x2^T | .... |\n",
    "top k closest in x1^T indices are the neighbours\n",
    "\n",
    "\n",
    "yˆ(x∗) = YTr∗, where r∗ = [r1,...,rN],rn = 1/k\n",
    "0, otherwise.\n",
    "\n",
    "\n"
   ]
  },
  {
   "cell_type": "code",
   "execution_count": 99,
   "metadata": {},
   "outputs": [],
   "source": [
    "#given starter code\n",
    "import numpy as np\n",
    "import matplotlib.pyplot as plt\n",
    "\n",
    "# my code part1 responsibility\n",
    "def nearestIndices(_dist_mat, _k):\n",
    "    # with tf.Session() as sess:\n",
    "    #_dist_mat = tf.constant([ [4, 9], [16, 25] ], tf.int32)\n",
    "    print(\"our k value\", _k)\n",
    "    #print(\"dist mat shape\", _dist_mat.shape)\n",
    "    nearest_k_data, nearest_k_indices = tf.nn.top_k(tf.negative(_dist_mat), _k)\n",
    "       \n",
    "    #print(type(indices_arr))\n",
    "    return nearest_k_data, nearest_k_indices\n",
    "\n",
    "    \n",
    "\n",
    "#unit testing\n",
    "#dist_mat = tf.constant([ 4, 9, 16, 25 ], tf.int32)\n",
    "#topk = nearestIndices(dist_mat, 2)\n",
    "#responsibility(topk, 2, 4)\n",
    "\n"
   ]
  },
  {
   "cell_type": "code",
   "execution_count": 146,
   "metadata": {},
   "outputs": [],
   "source": [
    "def pairDist(_data, _data1):\n",
    "    #TODO: what if no library function\n",
    "    data_t = tf.convert_to_tensor(_data)\n",
    "    data1_t = tf.convert_to_tensor(_data1)\n",
    "    dist = euclideanDistance(data_t, data1_t)\n",
    "    return dist\n",
    "  \n",
    "\n",
    "def knn(_trainData, _trainTarget, _new_data, _k):\n",
    "    #nearest indices\n",
    "    dist_mat = pairDist( _new_data, _trainData )    \n",
    "    #dist_mat = tf.convert_to_tensor(dist_mat)\n",
    "    nearest_k, nearest_k_idx = nearestIndices(dist_mat, _k)\n",
    "    predict_res = tf.reduce_mean(tf.gather(_trainTarget, nearest_k_idx), 1)\n",
    "    #print(\"predict\", predict_res.eval())\n",
    "    return predict_res\n",
    "\n",
    "    \n",
    "#pairDist(testData) \n",
    "#pred_result = knn(testData, testTarget, _k = 3)"
   ]
  },
  {
   "cell_type": "code",
   "execution_count": 159,
   "metadata": {
    "scrolled": true
   },
   "outputs": [],
   "source": [
    "def plotResult(_trainData, _trainTarget):\n",
    "    X = np.linspace(0.0, 11.0, num = 100)[:, np.newaxis]\n",
    "    xTensor = tf.stack(X)\n",
    "    \n",
    "    num_neighbour_list = [1, 3, 5, 50]\n",
    "    for j in num_neighbour_list:\n",
    "        print(\"plot result\")\n",
    "        dist_mat = pairDist( X, _trainData ) \n",
    "        nearest_k, nearest_k_idx = nearestIndices(dist_mat, j)\n",
    "        predict_res = tf.reduce_mean(tf.gather(_trainTarget, nearest_k_idx), 1)\n",
    "\n",
    "        plt.figure()#(j+100)\n",
    "        plt.scatter(sessMain.run(_trainData), sessMain.run(_trainTarget))\n",
    "        plt.plot(sessMain.run(xTensor), sessMain.run(predict_res))\n",
    "        fileName = str(\"KNN\") + str(j) + str(\"trainingGraph.png\")\n",
    "        plt.savefig(fileName)\n"
   ]
  },
  {
   "cell_type": "code",
   "execution_count": 160,
   "metadata": {},
   "outputs": [],
   "source": [
    "def testKValuesKNN(trainData, trainTarget, testData, testTarget):\n",
    "    num_neighbour_list = [1, 3, 5, 50]\n",
    "    loss_list = []\n",
    "\n",
    "    for j in num_neighbour_list:\n",
    "        print(\"j = \", j)\n",
    "        y_hat = knn(trainData, trainTarget, testData,  j)\n",
    "        #_y_hat = tf.transpose(_y_hat)\n",
    "        #mse_mat = euclideanDistance(_y_hat, _y) \n",
    "        mse_mat = tf.square(tf.subtract(y_hat, testTarget))\n",
    "        loss = tf.reduce_mean(mse_mat)/2.0\n",
    "        print(\"neighbout = \" ,j)\n",
    "        loss_list.append(loss.eval())\n",
    "    return loss_list\n",
    "        "
   ]
  },
  {
   "cell_type": "code",
   "execution_count": 161,
   "metadata": {},
   "outputs": [
    {
     "name": "stdout",
     "output_type": "stream",
     "text": [
      "plot result\n",
      "our k value 1\n",
      "dist mat shape (100, 80)\n",
      "plot result\n",
      "our k value 3\n",
      "dist mat shape (100, 80)\n",
      "plot result\n",
      "our k value 5\n",
      "dist mat shape (100, 80)\n",
      "plot result\n",
      "our k value 50\n",
      "dist mat shape (100, 80)\n"
     ]
    },
    {
     "data": {
      "image/png": "[encoded data removed]",
      "text/plain": [
       "<matplotlib.figure.Figure at 0x1150cc080>"
      ]
     },
     "metadata": {},
     "output_type": "display_data"
    },
    {
     "data": {
      "image/png": "[encoded data removed]",
      "text/plain": [
       "<matplotlib.figure.Figure at 0x1150c6ba8>"
      ]
     },
     "metadata": {},
     "output_type": "display_data"
    },
    {
     "data": {
      "image/png": "[encoded data removed]",
      "text/plain": [
       "<matplotlib.figure.Figure at 0x1167a77f0>"
      ]
     },
     "metadata": {},
     "output_type": "display_data"
    },
    {
     "data": {
      "image/png": "[encoded data removed]",
      "text/plain": [
       "<matplotlib.figure.Figure at 0x116fedcc0>"
      ]
     },
     "metadata": {},
     "output_type": "display_data"
    }
   ],
   "source": [
    "from scipy import spatial as sp\n",
    "from sklearn import metrics as skm\n",
    "\n",
    "\n",
    "if __name__ == \"__main__\":\n",
    "    np.random.seed(521)\n",
    "    Data = np.linspace(1.0 , 10.0 , num =100) [:, np. newaxis]\n",
    "    Target = np.sin( Data ) + 0.1 * np.power( Data , 2) \\\n",
    "         + 0.5 * np.random.randn(100 , 1)\n",
    "    randIdx = np.arange(100)\n",
    "    np.random.shuffle(randIdx)\n",
    "    trainData, trainTarget  = Data[randIdx[:80]], Target[randIdx[:80]]\n",
    "    validData, validTarget = Data[randIdx[80:90]], Target[randIdx[80:90]]\n",
    "    testData, testTarget = Data[randIdx[90:100]], Target[randIdx[90:100]]\n",
    "\n",
    "    # convert numpy array to tensors\n",
    "    trainData = tf.stack(trainData)\n",
    "    trainTarget = tf.stack(trainTarget)\n",
    "    testData = tf.stack(testData)\n",
    "    testTarget = tf.stack(testTarget)\n",
    "    validData = tf.stack(validData)\n",
    "    validtarget = tf.stack(validTarget)\n",
    "    \n",
    "    init = tf.global_variables_initializer()\n",
    "    sessMain = tf.InteractiveSession()\n",
    "    sessMain.run(init)\n",
    "    \n",
    "    \n",
    "    \n",
    "    plotResult(trainData, trainTarget)\n",
    "    \n",
    "    '''\n",
    "    loss_test = testKValuesKNN(trainData, trainTarget, testData, testTarget)\n",
    "    print(\"loss_test\", loss_test)\n",
    "    \n",
    "    loss_train = testKValuesKNN(trainData, trainTarget, trainData, trainTarget)\n",
    "    print(\"loss_train\" , loss_train)\n",
    "    \n",
    "    loss_valid = testKValuesKNN(trainData, trainTarget, validData, validTarget)\n",
    "    print(\"loss_valid\", loss_valid)\n",
    "    \n",
    "    '''\n",
    "    \n",
    "    \n",
    "\n",
    "\n",
    "\n",
    "        "
   ]
  },
  {
   "cell_type": "markdown",
   "metadata": {},
   "source": [
    "## Loss on KNN\n",
    "k  1 ,3 ,5 50\n",
    "test 0.12799977712101845, 0.14242504248546536, 0.18633105926605592, 0.70693467047889302\n",
    "train 0.0, 0.10825207710580038, 0.12183845521874122, 1.2477892734500411\n",
    "valid 0.28807977607463453, 0.30897640431136369, 0.31043863052707066, 1.2230445257949047"
   ]
  },
  {
   "cell_type": "markdown",
   "metadata": {},
   "source": [
    "## A1 Q2 Face"
   ]
  },
  {
   "cell_type": "code",
   "execution_count": null,
   "metadata": {},
   "outputs": [],
   "source": []
  }
 ],
 "metadata": {
  "kernelspec": {
   "display_name": "Python 3",
   "language": "python",
   "name": "python3"
  },
  "language_info": {
   "codemirror_mode": {
    "name": "ipython",
    "version": 3
   },
   "file_extension": ".py",
   "mimetype": "text/x-python",
   "name": "python",
   "nbconvert_exporter": "python",
   "pygments_lexer": "ipython3",
   "version": "3.6.4"
  }
 },
 "nbformat": 4,
 "nbformat_minor": 2
}
