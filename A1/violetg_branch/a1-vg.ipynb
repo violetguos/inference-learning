{
 "cells": [
  {
   "cell_type": "code",
   "execution_count": 2,
   "metadata": {},
   "outputs": [
    {
     "name": "stderr",
     "output_type": "stream",
     "text": [
      "/usr/local/Cellar/python3/3.6.4_1/Frameworks/Python.framework/Versions/3.6/lib/python3.6/importlib/_bootstrap.py:219: RuntimeWarning: compiletime version 3.5 of module 'tensorflow.python.framework.fast_tensor_util' does not match runtime version 3.6\n",
      "  return f(*args, **kwds)\n"
     ]
    }
   ],
   "source": [
    "import tensorflow as tf\n",
    "from __future__ import print_function\n"
   ]
  },
  {
   "cell_type": "markdown",
   "metadata": {},
   "source": [
    "## A1 Q1\n",
    "Euclidean distance function, vectorized    "
   ]
  },
  {
   "cell_type": "code",
   "execution_count": 6,
   "metadata": {},
   "outputs": [
    {
     "name": "stdout",
     "output_type": "stream",
     "text": [
      "Tensor(\"Const_4:0\", shape=(2, 1), dtype=float32)\n",
      "Tensor(\"Const_5:0\", shape=(2, 2), dtype=float32)\n",
      "Tensor(\"Square_1:0\", shape=(2, 2), dtype=float32)\n"
     ]
    }
   ],
   "source": [
    "def euclideanDistance(mat1, mat2):\n",
    "    print(mat1)\n",
    "    print(mat2)\n",
    "    l2_mat = tf.square(tf.subtract(mat1, mat2))\n",
    "    print(l2_mat.eva)\n",
    "    return l2_mat\n",
    "    \n",
    "with tf.Session() as sess:\n",
    "    mat1_ = tf.constant([[3.],[3.]])\n",
    "    mat2_ = tf.constant([[2., 2.], [2., 2.]])\n",
    "\n",
    "    l2_ = euclideanDistance(mat1_, mat2_)"
   ]
  }
 ],
 "metadata": {
  "kernelspec": {
   "display_name": "Python 3",
   "language": "python",
   "name": "python3"
  },
  "language_info": {
   "codemirror_mode": {
    "name": "ipython",
    "version": 3
   },
   "file_extension": ".py",
   "mimetype": "text/x-python",
   "name": "python",
   "nbconvert_exporter": "python",
   "pygments_lexer": "ipython3",
   "version": "3.6.4"
  }
 },
 "nbformat": 4,
 "nbformat_minor": 2
}
