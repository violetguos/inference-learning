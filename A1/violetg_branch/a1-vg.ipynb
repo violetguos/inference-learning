{
 "cells": [
  {
   "cell_type": "code",
   "execution_count": 34,
   "metadata": {},
   "outputs": [],
   "source": [
    "import tensorflow as tf\n",
    "from __future__ import print_function\n",
    "import numpy as np\n"
   ]
  },
  {
   "cell_type": "markdown",
   "metadata": {},
   "source": [
    "## A1 Q1\n",
    "Euclidean distance function, vectorized    "
   ]
  },
  {
   "cell_type": "code",
   "execution_count": 90,
   "metadata": {
    "scrolled": false
   },
   "outputs": [
    {
     "name": "stdout",
     "output_type": "stream",
     "text": [
      "----my func----\n",
      "[[ 0  2  8]\n",
      " [ 2  0  2]\n",
      " [ 8  2  0]\n",
      " [18  8  2]]\n",
      "---diff square---\n",
      "[[ 0  2  8]\n",
      " [ 2  0  2]\n",
      " [ 8  2  0]\n",
      " [18  8  2]]\n"
     ]
    }
   ],
   "source": [
    "def euclideanDistance(x, z):\n",
    "    '''\n",
    "    We vectorized the operation with matrix operations\n",
    "    the ||x - z ||^2 is = Sum(x - z)^2 = Sum from 1 to D\n",
    "    of (x^2 - 2xz + z^2)\n",
    "    \n",
    "    x^2 = x^T times x\n",
    "    z^2 = z^T times z\n",
    "    we can find the sum of each row by using the reduce sum function\n",
    "    \n",
    "    sum of -2xz \n",
    "    we can use matrix multiplication, x times z^T to obtain xz,\n",
    "    then multiply by -2\n",
    "    '''\n",
    "    n1 = x.shape[0]\n",
    "    n2 = z.shape[0]    \n",
    "    \n",
    "    x_squared = tf.square(x)\n",
    "    z_squared = tf.square(z) #tf.matmul(z ,tf.transpose(z))\n",
    "    #print(\"x_squared.eval()\")\n",
    "    #print(x_squared.eval())\n",
    "    x_2_sum = tf.reduce_sum(x_squared, 1)\n",
    "    z_2_sum = tf.reduce_sum(z_squared, 1)\n",
    "    \n",
    "    x_2_sum = tf.transpose(x_2_sum)\n",
    "    z_2_sum = tf.transpose(z_2_sum)\n",
    "    #x_2_sum = tf.reshape(x_2_sum, [-1, 1])\n",
    "    #z_2_sum = tf.reshape(z_2_sum, [-1, 1])\n",
    "    #print(\"x_2_sum.eval()\")\n",
    "    #print(x_2_sum.eval())\n",
    "    \n",
    "    xz = tf.matmul(x, tf.transpose(z))\n",
    "    #print(xz.eval())\n",
    "    minus_2xz = tf.scalar_mul(-2, xz)\n",
    "    #print(minus_2xz.eval())\n",
    " \n",
    "    x_2_tile =tf.tile(tf.expand_dims(x_2_sum, 1), [1, n2])\n",
    "    z_2_tile = tf.tile(tf.expand_dims(z_2_sum ,1), [1, n1])\n",
    "    z_2_tile_T = tf.transpose(z_2_tile)\n",
    "    #print(x_2_tile.eval())\n",
    "    #print(z_2_tile_T.eval())\n",
    "    \n",
    "    result = x_2_tile + minus_2xz +z_2_tile_T\n",
    "    \n",
    "    return result\n",
    "\n",
    "\"\"\"VERIFIED\"\"\"\n",
    "\n",
    "def testi():\n",
    "    A = tf.constant([[1, 1], [2,2], [3, 3], [4,4]])\n",
    "    B = tf.constant([[1, 1], [2, 2],[3,3]])\n",
    "    res_mine = euclideanDistance(A, B)\n",
    "    \n",
    "    print(\"----my func----\")\n",
    "    print(res_mine.eval())\n",
    "    print(\"---diff square---\")\n",
    "    res_lib = PairwiseDistances(A, B)\n",
    "    print(res_lib.eval())\n",
    "    \n",
    "with tf.Session() as sess1:\n",
    "    testi()\n",
    "    \n",
    "    \n"
   ]
  },
  {
   "cell_type": "markdown",
   "metadata": {},
   "source": [
    "## A1 Q2\n",
    "### part 1\n",
    "\n",
    "| x1^T | x2^T | .... |\n",
    "top k closest in x1^T indices are the neighbours\n",
    "\n",
    "\n",
    "yˆ(x∗) = YTr∗, where r∗ = [r1,...,rN],rn = 1/k\n",
    "0, otherwise.\n",
    "\n",
    "\n"
   ]
  },
  {
   "cell_type": "code",
   "execution_count": 81,
   "metadata": {},
   "outputs": [],
   "source": [
    "#given starter code\n",
    "import numpy as np\n",
    "import matplotlib.pyplot as plt\n",
    "\n",
    "# my code part1 responsibility\n",
    "def nearestIndices(_dist_mat, _k):\n",
    "    # with tf.Session() as sess:\n",
    "    #_dist_mat = tf.constant([ [4, 9], [16, 25] ], tf.int32)\n",
    "    print(\"our k value\", _k)\n",
    "    print(\"dist mat shape\", _dist_mat.shape)\n",
    "    nearest_k_data, nearest_k_indices = tf.nn.top_k(tf.negative(_dist_mat), _k)\n",
    "       \n",
    "    #print(type(indices_arr))\n",
    "    return nearest_k_data, nearest_k_indices\n",
    "\n",
    "    \n",
    "\n",
    "#unit testing\n",
    "#dist_mat = tf.constant([ 4, 9, 16, 25 ], tf.int32)\n",
    "#topk = nearestIndices(dist_mat, 2)\n",
    "#responsibility(topk, 2, 4)\n",
    "\n"
   ]
  },
  {
   "cell_type": "code",
   "execution_count": 86,
   "metadata": {},
   "outputs": [],
   "source": [
    "from scipy import spatial as sp\n",
    "from sklearn import metrics as skm\n",
    "\n",
    "\n",
    "np.random.seed(521)\n",
    "Data = np.linspace(1.0 , 10.0 , num =100) [:, np. newaxis]\n",
    "Target = np.sin( Data ) + 0.1 * np.power( Data , 2) \\\n",
    "         + 0.5 * np.random.randn(100 , 1)\n",
    "randIdx = np.arange(100)\n",
    "np.random.shuffle(randIdx)\n",
    "trainData, trainTarget  = Data[randIdx[:80]], Target[randIdx[:80]]\n",
    "validData, validTarget = Data[randIdx[80:90]], Target[randIdx[80:90]]\n",
    "testData, testTarget = Data[randIdx[90:100]], Target[randIdx[90:100]]\n",
    "\n",
    "\n",
    "def pairDist(_data, _data1):\n",
    "    #TODO: what if no library function\n",
    "    data_t = tf.convert_to_tensor(_data)\n",
    "    data1_t = tf.convert_to_tensor(_data1)\n",
    "    dist = euclideanDistance(data_t, data1_t)\n",
    "    return dist\n",
    "  \n",
    "\n",
    "def knn(_trainData, _trainTarget, _new_data, _k):\n",
    "    #nearest indices\n",
    "    dist_mat = pairDist(_trainData, _new_data )    \n",
    "    #dist_mat = tf.convert_to_tensor(dist_mat)\n",
    "\n",
    "    nearest_k, nearest_k_idx = nearestIndices(dist_mat, _k)\n",
    "    predict_res = tf.reduce_mean(tf.gather(_trainTarget, nearest_k_idx), 1)\n",
    "\n",
    "    \n",
    "    #maximum responsibility\n",
    "    train_target_tensor = tf.transpose(tf.convert_to_tensor(_trainTarget))\n",
    "    print(train_target_tensor.shape)\n",
    "    \n",
    "\n",
    "    print(\"predict\", predict_res.eval())\n",
    "    return predict_res\n",
    "\n",
    "    \n",
    "#pairDist(testData) \n",
    "#pred_result = knn(testData, testTarget, _k = 3)"
   ]
  },
  {
   "cell_type": "code",
   "execution_count": 87,
   "metadata": {},
   "outputs": [
    {
     "name": "stdout",
     "output_type": "stream",
     "text": [
      "j =  1\n",
      "our k value 1\n",
      "dist mat shape (10, 80)\n",
      "neighbours Tensor(\"TopKV2_64:1\", shape=(10, 1), dtype=int32)\n"
     ]
    },
    {
     "ename": "TypeError",
     "evalue": "'Tensor' object is not iterable.",
     "output_type": "error",
     "traceback": [
      "\u001b[0;31m---------------------------------------------------------------------------\u001b[0m",
      "\u001b[0;31mTypeError\u001b[0m                                 Traceback (most recent call last)",
      "\u001b[0;32m<ipython-input-87-f6b11136ff34>\u001b[0m in \u001b[0;36m<module>\u001b[0;34m()\u001b[0m\n\u001b[1;32m     15\u001b[0m     \u001b[0;32mfor\u001b[0m \u001b[0mj\u001b[0m \u001b[0;32min\u001b[0m \u001b[0mnum_neighbour_list\u001b[0m\u001b[0;34m:\u001b[0m\u001b[0;34m\u001b[0m\u001b[0m\n\u001b[1;32m     16\u001b[0m         \u001b[0mprint\u001b[0m\u001b[0;34m(\u001b[0m\u001b[0;34m\"j = \"\u001b[0m\u001b[0;34m,\u001b[0m \u001b[0mj\u001b[0m\u001b[0;34m)\u001b[0m\u001b[0;34m\u001b[0m\u001b[0m\n\u001b[0;32m---> 17\u001b[0;31m         \u001b[0m_y_hat\u001b[0m \u001b[0;34m=\u001b[0m \u001b[0mknn\u001b[0m\u001b[0;34m(\u001b[0m\u001b[0mtrainData\u001b[0m\u001b[0;34m,\u001b[0m\u001b[0mtrainTarget\u001b[0m\u001b[0;34m,\u001b[0m \u001b[0mtestData\u001b[0m\u001b[0;34m,\u001b[0m  \u001b[0mj\u001b[0m\u001b[0;34m)\u001b[0m\u001b[0;34m\u001b[0m\u001b[0m\n\u001b[0m\u001b[1;32m     18\u001b[0m         \u001b[0m_y_hat\u001b[0m \u001b[0;34m=\u001b[0m \u001b[0mtf\u001b[0m\u001b[0;34m.\u001b[0m\u001b[0mtranspose\u001b[0m\u001b[0;34m(\u001b[0m\u001b[0m_y_hat\u001b[0m\u001b[0;34m)\u001b[0m\u001b[0;34m\u001b[0m\u001b[0m\n\u001b[1;32m     19\u001b[0m         \u001b[0m_y\u001b[0m \u001b[0;34m=\u001b[0m \u001b[0mtestTarget\u001b[0m\u001b[0;34m\u001b[0m\u001b[0m\n",
      "\u001b[0;32m<ipython-input-86-085b629c1219>\u001b[0m in \u001b[0;36mknn\u001b[0;34m(_trainData, _trainTarget, _new_data, _k)\u001b[0m\n\u001b[1;32m     31\u001b[0m     \u001b[0mdist_matT\u001b[0m \u001b[0;34m=\u001b[0m \u001b[0mtf\u001b[0m\u001b[0;34m.\u001b[0m\u001b[0mtranspose\u001b[0m\u001b[0;34m(\u001b[0m\u001b[0mdist_mat\u001b[0m\u001b[0;34m)\u001b[0m\u001b[0;34m\u001b[0m\u001b[0m\n\u001b[1;32m     32\u001b[0m     \u001b[0mnearest_k\u001b[0m \u001b[0;34m=\u001b[0m \u001b[0mnearestIndices\u001b[0m\u001b[0;34m(\u001b[0m\u001b[0mdist_matT\u001b[0m\u001b[0;34m,\u001b[0m \u001b[0m_k\u001b[0m\u001b[0;34m)\u001b[0m\u001b[0;34m\u001b[0m\u001b[0m\n\u001b[0;32m---> 33\u001b[0;31m     \u001b[0mrespon_mat\u001b[0m \u001b[0;34m=\u001b[0m \u001b[0mresponsibility\u001b[0m\u001b[0;34m(\u001b[0m\u001b[0mnearest_k\u001b[0m\u001b[0;34m,\u001b[0m \u001b[0m_k\u001b[0m\u001b[0;34m,\u001b[0m \u001b[0;36m80\u001b[0m \u001b[0;34m)\u001b[0m\u001b[0;34m\u001b[0m\u001b[0m\n\u001b[0m\u001b[1;32m     34\u001b[0m \u001b[0;34m\u001b[0m\u001b[0m\n\u001b[1;32m     35\u001b[0m     \u001b[0;31m#maximum responsibility\u001b[0m\u001b[0;34m\u001b[0m\u001b[0;34m\u001b[0m\u001b[0m\n",
      "\u001b[0;32m<ipython-input-81-bd73226c8500>\u001b[0m in \u001b[0;36mresponsibility\u001b[0;34m(_neighbours, _k, _n)\u001b[0m\n\u001b[1;32m     21\u001b[0m     \u001b[0mprint\u001b[0m\u001b[0;34m(\u001b[0m\u001b[0;34m\"neighbours\"\u001b[0m\u001b[0;34m,\u001b[0m \u001b[0m_neighbours\u001b[0m \u001b[0;34m)\u001b[0m\u001b[0;34m\u001b[0m\u001b[0m\n\u001b[1;32m     22\u001b[0m     \u001b[0mone_over_k\u001b[0m \u001b[0;34m=\u001b[0m \u001b[0;36m1\u001b[0m\u001b[0;34m/\u001b[0m\u001b[0m_k\u001b[0m\u001b[0;34m\u001b[0m\u001b[0m\n\u001b[0;32m---> 23\u001b[0;31m     \u001b[0;32mfor\u001b[0m \u001b[0mi\u001b[0m \u001b[0;32min\u001b[0m \u001b[0m_neighbours\u001b[0m\u001b[0;34m:\u001b[0m \u001b[0;31m#_neighbours:\u001b[0m\u001b[0;34m\u001b[0m\u001b[0m\n\u001b[0m\u001b[1;32m     24\u001b[0m         \u001b[0mrespon\u001b[0m\u001b[0;34m[\u001b[0m\u001b[0mi\u001b[0m\u001b[0;34m]\u001b[0m \u001b[0;34m=\u001b[0m \u001b[0mone_over_k\u001b[0m\u001b[0;34m\u001b[0m\u001b[0m\n\u001b[1;32m     25\u001b[0m     \u001b[0mprint\u001b[0m\u001b[0;34m(\u001b[0m\u001b[0;34m\"respon\"\u001b[0m\u001b[0;34m)\u001b[0m\u001b[0;34m\u001b[0m\u001b[0m\n",
      "\u001b[0;32m/usr/local/lib/python3.6/site-packages/tensorflow/python/framework/ops.py\u001b[0m in \u001b[0;36m__iter__\u001b[0;34m(self)\u001b[0m\n\u001b[1;32m    503\u001b[0m       \u001b[0mTypeError\u001b[0m\u001b[0;34m:\u001b[0m \u001b[0mwhen\u001b[0m \u001b[0minvoked\u001b[0m\u001b[0;34m.\u001b[0m\u001b[0;34m\u001b[0m\u001b[0m\n\u001b[1;32m    504\u001b[0m     \"\"\"\n\u001b[0;32m--> 505\u001b[0;31m     \u001b[0;32mraise\u001b[0m \u001b[0mTypeError\u001b[0m\u001b[0;34m(\u001b[0m\u001b[0;34m\"'Tensor' object is not iterable.\"\u001b[0m\u001b[0;34m)\u001b[0m\u001b[0;34m\u001b[0m\u001b[0m\n\u001b[0m\u001b[1;32m    506\u001b[0m \u001b[0;34m\u001b[0m\u001b[0m\n\u001b[1;32m    507\u001b[0m   \u001b[0;32mdef\u001b[0m \u001b[0m__bool__\u001b[0m\u001b[0;34m(\u001b[0m\u001b[0mself\u001b[0m\u001b[0;34m)\u001b[0m\u001b[0;34m:\u001b[0m\u001b[0;34m\u001b[0m\u001b[0m\n",
      "\u001b[0;31mTypeError\u001b[0m: 'Tensor' object is not iterable."
     ]
    }
   ],
   "source": [
    "#TODO: MSE LOSS\n",
    "def mseLoss(mse_mat, _n):\n",
    "    '''\n",
    "    assume both dims are N by D\n",
    "    '''\n",
    "    \n",
    "    loss = tf.reduce_mean(tf.square(tf.subtract(trainTargetSelectedAveraged, testTarget)))/2.0\n",
    "\n",
    "    return loss\n",
    "\n",
    "slice_data_list = [testData, validData]\n",
    "slice_target_list = [trainTarget, testTarget, validTarget]\n",
    "num_neighbour_list = [1]#[1, 3, 5, 50]\n",
    "loss_list = []\n",
    "\n",
    "\n",
    "with tf.Session() as sess_loss:\n",
    "    for j in num_neighbour_list:\n",
    "        print(\"j = \", j)\n",
    "        _y_hat = knn(trainData,trainTarget, testData,  j)\n",
    "        _y_hat = tf.transpose(_y_hat)\n",
    "        _y = testTarget\n",
    "        mse_mat = euclideanDistance(_y_hat, _y) \n",
    "\n",
    "        print(\"neighbout = \" ,j)\n",
    "        print(loss.eval())"
   ]
  },
  {
   "cell_type": "code",
   "execution_count": 88,
   "metadata": {},
   "outputs": [
    {
     "name": "stdout",
     "output_type": "stream",
     "text": [
      "our k value 2\n",
      "dist mat shape (10, 80)\n",
      "neighbours Tensor(\"TopKV2_65:1\", shape=(10, 2), dtype=int32)\n"
     ]
    },
    {
     "ename": "TypeError",
     "evalue": "'Tensor' object is not iterable.",
     "output_type": "error",
     "traceback": [
      "\u001b[0;31m---------------------------------------------------------------------------\u001b[0m",
      "\u001b[0;31mTypeError\u001b[0m                                 Traceback (most recent call last)",
      "\u001b[0;32m<ipython-input-88-57d491f3eac5>\u001b[0m in \u001b[0;36m<module>\u001b[0;34m()\u001b[0m\n\u001b[1;32m     22\u001b[0m \u001b[0;34m\u001b[0m\u001b[0m\n\u001b[1;32m     23\u001b[0m \u001b[0;32mwith\u001b[0m \u001b[0mtf\u001b[0m\u001b[0;34m.\u001b[0m\u001b[0mSession\u001b[0m\u001b[0;34m(\u001b[0m\u001b[0;34m)\u001b[0m \u001b[0;32mas\u001b[0m \u001b[0msess3\u001b[0m\u001b[0;34m:\u001b[0m\u001b[0;34m\u001b[0m\u001b[0m\n\u001b[0;32m---> 24\u001b[0;31m     \u001b[0mtest_result\u001b[0m \u001b[0;34m=\u001b[0m \u001b[0mknn\u001b[0m\u001b[0;34m(\u001b[0m\u001b[0mtrainData\u001b[0m\u001b[0;34m,\u001b[0m \u001b[0mtrainTarget\u001b[0m\u001b[0;34m,\u001b[0m \u001b[0mtestData\u001b[0m\u001b[0;34m,\u001b[0m \u001b[0;36m2\u001b[0m\u001b[0;34m)\u001b[0m\u001b[0;34m\u001b[0m\u001b[0m\n\u001b[0m\u001b[1;32m     25\u001b[0m     \u001b[0mvali_result\u001b[0m \u001b[0;34m=\u001b[0m \u001b[0mknn\u001b[0m\u001b[0;34m(\u001b[0m\u001b[0mtrainData\u001b[0m\u001b[0;34m,\u001b[0m \u001b[0mtrainTarget\u001b[0m\u001b[0;34m,\u001b[0m \u001b[0mvalidData\u001b[0m\u001b[0;34m,\u001b[0m \u001b[0;36m2\u001b[0m\u001b[0;34m)\u001b[0m\u001b[0;34m\u001b[0m\u001b[0m\n\u001b[1;32m     26\u001b[0m     \u001b[0mloss\u001b[0m \u001b[0;34m=\u001b[0m \u001b[0mmseLoss\u001b[0m\u001b[0;34m(\u001b[0m\u001b[0mtest_result\u001b[0m\u001b[0;34m,\u001b[0m \u001b[0mtestTarget\u001b[0m\u001b[0;34m)\u001b[0m\u001b[0;34m\u001b[0m\u001b[0m\n",
      "\u001b[0;32m<ipython-input-86-085b629c1219>\u001b[0m in \u001b[0;36mknn\u001b[0;34m(_trainData, _trainTarget, _new_data, _k)\u001b[0m\n\u001b[1;32m     31\u001b[0m     \u001b[0mdist_matT\u001b[0m \u001b[0;34m=\u001b[0m \u001b[0mtf\u001b[0m\u001b[0;34m.\u001b[0m\u001b[0mtranspose\u001b[0m\u001b[0;34m(\u001b[0m\u001b[0mdist_mat\u001b[0m\u001b[0;34m)\u001b[0m\u001b[0;34m\u001b[0m\u001b[0m\n\u001b[1;32m     32\u001b[0m     \u001b[0mnearest_k\u001b[0m \u001b[0;34m=\u001b[0m \u001b[0mnearestIndices\u001b[0m\u001b[0;34m(\u001b[0m\u001b[0mdist_matT\u001b[0m\u001b[0;34m,\u001b[0m \u001b[0m_k\u001b[0m\u001b[0;34m)\u001b[0m\u001b[0;34m\u001b[0m\u001b[0m\n\u001b[0;32m---> 33\u001b[0;31m     \u001b[0mrespon_mat\u001b[0m \u001b[0;34m=\u001b[0m \u001b[0mresponsibility\u001b[0m\u001b[0;34m(\u001b[0m\u001b[0mnearest_k\u001b[0m\u001b[0;34m,\u001b[0m \u001b[0m_k\u001b[0m\u001b[0;34m,\u001b[0m \u001b[0;36m80\u001b[0m \u001b[0;34m)\u001b[0m\u001b[0;34m\u001b[0m\u001b[0m\n\u001b[0m\u001b[1;32m     34\u001b[0m \u001b[0;34m\u001b[0m\u001b[0m\n\u001b[1;32m     35\u001b[0m     \u001b[0;31m#maximum responsibility\u001b[0m\u001b[0;34m\u001b[0m\u001b[0;34m\u001b[0m\u001b[0m\n",
      "\u001b[0;32m<ipython-input-81-bd73226c8500>\u001b[0m in \u001b[0;36mresponsibility\u001b[0;34m(_neighbours, _k, _n)\u001b[0m\n\u001b[1;32m     21\u001b[0m     \u001b[0mprint\u001b[0m\u001b[0;34m(\u001b[0m\u001b[0;34m\"neighbours\"\u001b[0m\u001b[0;34m,\u001b[0m \u001b[0m_neighbours\u001b[0m \u001b[0;34m)\u001b[0m\u001b[0;34m\u001b[0m\u001b[0m\n\u001b[1;32m     22\u001b[0m     \u001b[0mone_over_k\u001b[0m \u001b[0;34m=\u001b[0m \u001b[0;36m1\u001b[0m\u001b[0;34m/\u001b[0m\u001b[0m_k\u001b[0m\u001b[0;34m\u001b[0m\u001b[0m\n\u001b[0;32m---> 23\u001b[0;31m     \u001b[0;32mfor\u001b[0m \u001b[0mi\u001b[0m \u001b[0;32min\u001b[0m \u001b[0m_neighbours\u001b[0m\u001b[0;34m:\u001b[0m \u001b[0;31m#_neighbours:\u001b[0m\u001b[0;34m\u001b[0m\u001b[0m\n\u001b[0m\u001b[1;32m     24\u001b[0m         \u001b[0mrespon\u001b[0m\u001b[0;34m[\u001b[0m\u001b[0mi\u001b[0m\u001b[0;34m]\u001b[0m \u001b[0;34m=\u001b[0m \u001b[0mone_over_k\u001b[0m\u001b[0;34m\u001b[0m\u001b[0m\n\u001b[1;32m     25\u001b[0m     \u001b[0mprint\u001b[0m\u001b[0;34m(\u001b[0m\u001b[0;34m\"respon\"\u001b[0m\u001b[0;34m)\u001b[0m\u001b[0;34m\u001b[0m\u001b[0m\n",
      "\u001b[0;32m/usr/local/lib/python3.6/site-packages/tensorflow/python/framework/ops.py\u001b[0m in \u001b[0;36m__iter__\u001b[0;34m(self)\u001b[0m\n\u001b[1;32m    503\u001b[0m       \u001b[0mTypeError\u001b[0m\u001b[0;34m:\u001b[0m \u001b[0mwhen\u001b[0m \u001b[0minvoked\u001b[0m\u001b[0;34m.\u001b[0m\u001b[0;34m\u001b[0m\u001b[0m\n\u001b[1;32m    504\u001b[0m     \"\"\"\n\u001b[0;32m--> 505\u001b[0;31m     \u001b[0;32mraise\u001b[0m \u001b[0mTypeError\u001b[0m\u001b[0;34m(\u001b[0m\u001b[0;34m\"'Tensor' object is not iterable.\"\u001b[0m\u001b[0;34m)\u001b[0m\u001b[0;34m\u001b[0m\u001b[0m\n\u001b[0m\u001b[1;32m    506\u001b[0m \u001b[0;34m\u001b[0m\u001b[0m\n\u001b[1;32m    507\u001b[0m   \u001b[0;32mdef\u001b[0m \u001b[0m__bool__\u001b[0m\u001b[0;34m(\u001b[0m\u001b[0mself\u001b[0m\u001b[0;34m)\u001b[0m\u001b[0;34m:\u001b[0m\u001b[0;34m\u001b[0m\u001b[0m\n",
      "\u001b[0;31mTypeError\u001b[0m: 'Tensor' object is not iterable."
     ]
    }
   ],
   "source": [
    "def plotResult(pred_result, target, _num):\n",
    "    X = np.linspace(0.0, 11.0, num = _num)[:, np.newaxis]\n",
    "\n",
    "    print(\"plot result\")\n",
    "    #pred_result = pred_result.eval()\n",
    "    print(\"target.shape\", target.shape)\n",
    "    print(\"pred_result.shape\", pred_result.shape)\n",
    "    #target = tf.convert_to_tensor(target)\n",
    "    pred_result = pred_result.T\n",
    "    plt.plot(X, pred_result, \".b\" )\n",
    "\n",
    "    plt.plot(X, target, \"-r\")\n",
    "    \n",
    "    plt.show()\n",
    "    \n",
    "#training\n",
    "\n",
    "\n",
    "\n",
    "#print(loss)\n",
    "\n",
    "\n",
    "with tf.Session() as sess3:\n",
    "    test_result = knn(trainData, trainTarget, testData, 2)\n",
    "    vali_result = knn(trainData, trainTarget, validData, 2)\n",
    "    loss = mseLoss(test_result, testTarget)\n",
    "    print(\"test_result.shape\", test_result.shape)\n",
    "    print(\"test target shape\", testTarget.shape)\n",
    "    #print(\"ali_result.shape\", vali_result.shape)\n",
    "\n",
    "    plotResult(test_result, testTarget, _num=10)\n",
    "\n",
    "\n"
   ]
  },
  {
   "cell_type": "code",
   "execution_count": null,
   "metadata": {},
   "outputs": [],
   "source": [
    "if __name__ == \"__main__\":\n",
    "    "
   ]
  },
  {
   "cell_type": "code",
   "execution_count": null,
   "metadata": {},
   "outputs": [],
   "source": []
  }
 ],
 "metadata": {
  "kernelspec": {
   "display_name": "Python 3",
   "language": "python",
   "name": "python3"
  },
  "language_info": {
   "codemirror_mode": {
    "name": "ipython",
    "version": 3
   },
   "file_extension": ".py",
   "mimetype": "text/x-python",
   "name": "python",
   "nbconvert_exporter": "python",
   "pygments_lexer": "ipython3",
   "version": "3.6.4"
  }
 },
 "nbformat": 4,
 "nbformat_minor": 2
}
