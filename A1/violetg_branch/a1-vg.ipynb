{
 "cells": [
  {
   "cell_type": "code",
   "execution_count": 1,
   "metadata": {},
   "outputs": [
    {
     "name": "stderr",
     "output_type": "stream",
     "text": [
      "/usr/local/Cellar/python3/3.6.4_1/Frameworks/Python.framework/Versions/3.6/lib/python3.6/importlib/_bootstrap.py:219: RuntimeWarning: compiletime version 3.5 of module 'tensorflow.python.framework.fast_tensor_util' does not match runtime version 3.6\n",
      "  return f(*args, **kwds)\n"
     ]
    }
   ],
   "source": [
    "import tensorflow as tf\n",
    "from __future__ import print_function\n",
    "import numpy as np\n"
   ]
  },
  {
   "cell_type": "markdown",
   "metadata": {},
   "source": [
    "## A1 Q1\n",
    "Euclidean distance function, vectorized    "
   ]
  },
  {
   "cell_type": "code",
   "execution_count": 2,
   "metadata": {
    "scrolled": false
   },
   "outputs": [
    {
     "name": "stdout",
     "output_type": "stream",
     "text": [
      "----my func----\n",
      "[[0 2 8]\n",
      " [2 0 2]\n",
      " [8 2 0]]\n",
      "---diff square---\n",
      "[[0 2 8]\n",
      " [2 0 2]\n",
      " [8 2 0]]\n"
     ]
    }
   ],
   "source": [
    "def euclideanDistance(x, z):\n",
    "    '''\n",
    "    We vectorized the operation with matrix operations\n",
    "    the ||x - z ||^2 is = Sum(x - z)^2 = Sum from 1 to D\n",
    "    of (x^2 - 2xz + z^2)\n",
    "    \n",
    "    x^2 = x^T times x\n",
    "    z^2 = z^T times z\n",
    "    we can find the sum of each row by using the reduce sum function\n",
    "    \n",
    "    sum of -2xz \n",
    "    we can use matrix multiplication, x times z^T to obtain xz,\n",
    "    then multiply by -2\n",
    "    '''\n",
    "    n1 = x.shape[0]\n",
    "    n2 = z.shape[0]    \n",
    "    \n",
    "    x_squared = tf.square(x)\n",
    "    z_squared = tf.square(z) #tf.matmul(z ,tf.transpose(z))\n",
    "    #print(\"x_squared.eval()\")\n",
    "    #print(x_squared.eval())\n",
    "    x_2_sum = tf.reduce_sum(x_squared, 1)\n",
    "    z_2_sum = tf.reduce_sum(z_squared, 1)\n",
    "    \n",
    "    x_2_sum = tf.transpose(x_2_sum)\n",
    "    z_2_sum = tf.transpose(z_2_sum)\n",
    "    #x_2_sum = tf.reshape(x_2_sum, [-1, 1])\n",
    "    #z_2_sum = tf.reshape(z_2_sum, [-1, 1])\n",
    "    #print(\"x_2_sum.eval()\")\n",
    "    #print(x_2_sum.eval())\n",
    "    \n",
    "    xz = tf.matmul(x, tf.transpose(z))\n",
    "    #print(xz.eval())\n",
    "    minus_2xz = tf.scalar_mul(-2, xz)\n",
    "    #print(minus_2xz.eval())\n",
    " \n",
    "    x_2_tile =tf.tile(tf.expand_dims(x_2_sum, 1), [1, n2])\n",
    "    z_2_tile = tf.tile(tf.expand_dims(z_2_sum ,1), [1, n1])\n",
    "    z_2_tile_T = tf.transpose(z_2_tile)\n",
    "    #print(x_2_tile.eval())\n",
    "    #print(z_2_tile_T.eval())\n",
    "    \n",
    "    result = x_2_tile + minus_2xz +z_2_tile_T\n",
    "    \n",
    "    return result\n",
    "\n",
    "def squared_dist(A): \n",
    "    expanded_a = tf.expand_dims(A, 1)\n",
    "    expanded_b = tf.expand_dims(A, 0)\n",
    "    distances = tf.reduce_sum(tf.squared_difference(expanded_a, expanded_b), 2)\n",
    "    return distances\n",
    "\n",
    "\n",
    "def testi():\n",
    "    A = tf.constant([[1, 1], [2,2], [3, 3]])\n",
    "    B = tf.constant([[1, 1], [2, 2],[3,3]])\n",
    "    res_mine = euclideanDistance(A, B)\n",
    "    \n",
    "    print(\"----my func----\")\n",
    "    print(res_mine.eval())\n",
    "    print(\"---diff square---\")\n",
    "    res_lib = squared_dist(A)\n",
    "    print(res_lib.eval())\n",
    "    \n",
    "with tf.Session() as sess1:\n",
    "    testi()\n",
    "    \n",
    "    \n"
   ]
  },
  {
   "cell_type": "markdown",
   "metadata": {},
   "source": [
    "## A1 Q2\n",
    "### part 1\n",
    "\n",
    "| x1^T | x2^T | .... |\n",
    "top k closest in x1^T indices are the neighbours\n",
    "\n",
    "\n",
    "yˆ(x∗) = YTr∗, where r∗ = [r1,...,rN],rn = 1/k\n",
    "0, otherwise.\n",
    "\n",
    "\n"
   ]
  },
  {
   "cell_type": "code",
   "execution_count": 3,
   "metadata": {},
   "outputs": [],
   "source": [
    "#given starter code\n",
    "import numpy as np\n",
    "import matplotlib.pyplot as plt\n",
    "\n",
    "# my code part1 responsibility\n",
    "def nearestIndices(_dist_mat, _k):\n",
    "    with tf.Session() as sess:\n",
    "        #_dist_mat = tf.constant([ [4, 9], [16, 25] ], tf.int32)\n",
    "        nearest_k = tf.nn.top_k(tf.negative(_dist_mat), _k)\n",
    "        #print(_dist_mat.eval())\n",
    "        print(\"nearest_k.indices.eval()\")\n",
    "       \n",
    "        #print(nearest_k.indices.eval())\n",
    "        indices_arr = nearest_k.indices.eval()\n",
    "        #print(type(indices_arr))\n",
    "        return indices_arr\n",
    "\n",
    "def responsibility(_neighbours, _k, _n ):\n",
    "    respon = np.zeros(_n) #total number of data\n",
    "    #find intersection of _data and _neighbours\n",
    "    #print(type(_neighbours))\n",
    "    one_over_k = 1/_k\n",
    "    for i in _neighbours:\n",
    "        respon[i] +=one_over_k   \n",
    "    print(\"respon\")\n",
    "    #print(respon)\n",
    "    return respon\n",
    "    \n",
    "    \n",
    "    \n",
    "\n",
    "#unit testing\n",
    "#dist_mat = tf.constant([ 4, 9, 16, 25 ], tf.int32)\n",
    "#topk = nearestIndices(dist_mat, 2)\n",
    "#responsibility(topk, 2, 4)\n",
    "\n"
   ]
  },
  {
   "cell_type": "code",
   "execution_count": 12,
   "metadata": {},
   "outputs": [],
   "source": [
    "from scipy import spatial as sp\n",
    "from sklearn import metrics as skm\n",
    "\n",
    "\n",
    "np.random.seed(521)\n",
    "Data = np.linspace(1.0 , 10.0 , num =100) [:, np. newaxis]\n",
    "Target = np.sin( Data ) + 0.1 * np.power( Data , 2) \\\n",
    "         + 0.5 * np.random.randn(100 , 1)\n",
    "randIdx = np.arange(100)\n",
    "np.random.shuffle(randIdx)\n",
    "trainData, trainTarget  = Data[randIdx[:80]], Target[randIdx[:80]]\n",
    "validData, validTarget = Data[randIdx[80:90]], Target[randIdx[80:90]]\n",
    "testData, testTarget = Data[randIdx[90:100]], Target[randIdx[90:100]]\n",
    "\n",
    "\n",
    "def pairDist(_data):\n",
    "    #TODO: what if no library function\n",
    "    dist = skm.pairwise.euclidean_distances(_data)\n",
    "    return dist\n",
    "\n",
    "def knn(_trainData, _trainTarget, _k):\n",
    "    #nearest indices\n",
    "    dist_mat = pairDist(_trainData)\n",
    "    #responsbility\n",
    "    dist_mat = tf.convert_to_tensor(dist_mat)\n",
    "    nearest_k = nearestIndices(dist_mat, _k)\n",
    "    respon_mat = responsibility(nearest_k, _k, _trainData.shape[0])\n",
    "    \n",
    "    #maximum responsibility\n",
    "    train_target_tensor = tf.transpose(tf.convert_to_tensor(_trainTarget))\n",
    "    #print(foo.shape)\n",
    "    \n",
    "    respon_tensor = tf.convert_to_tensor(respon_mat)\n",
    "    #tf.reshape(bar, [10,1])\n",
    "    #print(bar.shape)\n",
    "    \n",
    "    predict = tf.multiply(train_target_tensor, respon_tensor)\n",
    "    return predict\n",
    "    #print(respon_mat)\n",
    "    #print(predict)\n",
    "    \n",
    "    \n",
    "#pairDist(testData) \n",
    "#pred_result = knn(testData, testTarget, _k = 3)"
   ]
  },
  {
   "cell_type": "code",
   "execution_count": 49,
   "metadata": {},
   "outputs": [
    {
     "ename": "TypeError",
     "evalue": "knn() missing 2 required positional arguments: '_trainTarget' and '_k'",
     "output_type": "error",
     "traceback": [
      "\u001b[0;31m---------------------------------------------------------------------------\u001b[0m",
      "\u001b[0;31mTypeError\u001b[0m                                 Traceback (most recent call last)",
      "\u001b[0;32m<ipython-input-49-deaf2763e024>\u001b[0m in \u001b[0;36m<module>\u001b[0;34m()\u001b[0m\n\u001b[1;32m     16\u001b[0m     \u001b[0;32mfor\u001b[0m \u001b[0mi\u001b[0m \u001b[0;32min\u001b[0m \u001b[0mrange\u001b[0m\u001b[0;34m(\u001b[0m\u001b[0;36m0\u001b[0m\u001b[0;34m,\u001b[0m\u001b[0;36m3\u001b[0m\u001b[0;34m)\u001b[0m\u001b[0;34m:\u001b[0m\u001b[0;34m\u001b[0m\u001b[0m\n\u001b[1;32m     17\u001b[0m         \u001b[0;32mfor\u001b[0m \u001b[0mj\u001b[0m \u001b[0;32min\u001b[0m \u001b[0mnum_neighbout_list\u001b[0m\u001b[0;34m:\u001b[0m\u001b[0;34m\u001b[0m\u001b[0m\n\u001b[0;32m---> 18\u001b[0;31m             \u001b[0m_y_hat\u001b[0m \u001b[0;34m=\u001b[0m \u001b[0mknn\u001b[0m\u001b[0;34m(\u001b[0m\u001b[0mslice_data_list\u001b[0m\u001b[0;34m[\u001b[0m\u001b[0mi\u001b[0m\u001b[0;34m]\u001b[0m\u001b[0;34m)\u001b[0m\u001b[0;34m\u001b[0m\u001b[0m\n\u001b[0m\u001b[1;32m     19\u001b[0m             \u001b[0m_y_hat\u001b[0m \u001b[0;34m=\u001b[0m \u001b[0mtf\u001b[0m\u001b[0;34m.\u001b[0m\u001b[0mtranspose\u001b[0m\u001b[0;34m(\u001b[0m\u001b[0m_y_hat\u001b[0m\u001b[0;34m)\u001b[0m\u001b[0;34m\u001b[0m\u001b[0m\n\u001b[1;32m     20\u001b[0m             \u001b[0m_y\u001b[0m \u001b[0;34m=\u001b[0m \u001b[0mslice_target_list\u001b[0m\u001b[0;34m[\u001b[0m\u001b[0mi\u001b[0m\u001b[0;34m]\u001b[0m\u001b[0;34m\u001b[0m\u001b[0m\n",
      "\u001b[0;31mTypeError\u001b[0m: knn() missing 2 required positional arguments: '_trainTarget' and '_k'"
     ]
    }
   ],
   "source": [
    "#TODO: MSE LOSS\n",
    "def mseLoss(mse_mat, _n):\n",
    "    '''\n",
    "    assume both dims are N by D\n",
    "    '''\n",
    "\n",
    "    mse_sum = tf.reduce_sum(mse_mat)\n",
    "    loss = mse_sum/(2.0 * _n)\n",
    "    return loss\n",
    "\n",
    "slice_data_list = [trainData, testData, validData]\n",
    "slice_target_list = [trainTarget, testTarget, validTarget]\n",
    "num_neighbout_list = [1, 3, 5,50]\n",
    "\n",
    "with tf.Session() as sess_loss:\n",
    "    for i in range(0,3):\n",
    "        for j in num_neighbout_list:\n",
    "            _y_hat = knn(slice_data_list[i], slice_target_list[i])\n",
    "            _y_hat = tf.transpose(_y_hat)\n",
    "            _y = slice_target_list[i]\n",
    "            mse_mat = euclideanDistance(_y_hat, _y) \n",
    "            print(mseLoss(mse_mat, j))"
   ]
  },
  {
   "cell_type": "code",
   "execution_count": 45,
   "metadata": {},
   "outputs": [
    {
     "name": "stdout",
     "output_type": "stream",
     "text": [
      "nearest_k.indices.eval()\n",
      "respon\n",
      "nearest_k.indices.eval()\n",
      "respon\n",
      "nearest_k.indices.eval()\n",
      "respon\n",
      "<class 'tensorflow.python.framework.ops.Tensor'>\n",
      "(1, 80)\n",
      "(1, 10)\n",
      "(1, 10)\n",
      "plot result\n"
     ]
    },
    {
     "data": {
      "image/png": "[encoded data removed]",
      "text/plain": [
       "<matplotlib.figure.Figure at 0x11c5cdfd0>"
      ]
     },
     "metadata": {},
     "output_type": "display_data"
    }
   ],
   "source": [
    "def plotResult(pred_result, target, _num):\n",
    "    X = np.linspace(0.0, 11.0, num = _num)[:, np.newaxis]\n",
    "\n",
    "    print(\"plot result\")\n",
    "    pred_result = pred_result.eval()\n",
    "    #print(type(target))\n",
    "    #target = tf.convert_to_tensor(target)\n",
    "    pred_result = pred_result.T\n",
    "    plt.plot(X, pred_result, \".b\" )\n",
    "\n",
    "    plt.plot(X, target, \"-r\")\n",
    "    \n",
    "    plt.show()\n",
    "    \n",
    "#training\n",
    "\n",
    "\n",
    "\n",
    "#print(loss)\n",
    "train_result = knn(trainData, trainTarget, 2)\n",
    "test_result = knn(testData, testTarget, 2)\n",
    "vali_result = knn(validData, validTarget, 2)\n",
    "loss = mseLoss(pred_result, testTarget, 10)\n",
    "\n",
    "print(type(test_result))\n",
    "with tf.Session() as sess3:\n",
    "    print(train_result.shape)\n",
    "    print(test_result.shape)\n",
    "    print(vali_result.shape)\n",
    "    pred_result = tf.concat([train_result, test_result, vali_result], axis=1)\n",
    "\n",
    "    plotResult(pred_result, Target, _num=100)\n",
    "\n",
    "\n"
   ]
  },
  {
   "cell_type": "code",
   "execution_count": null,
   "metadata": {},
   "outputs": [],
   "source": []
  }
 ],
 "metadata": {
  "kernelspec": {
   "display_name": "Python 3",
   "language": "python",
   "name": "python3"
  },
  "language_info": {
   "codemirror_mode": {
    "name": "ipython",
    "version": 3
   },
   "file_extension": ".py",
   "mimetype": "text/x-python",
   "name": "python",
   "nbconvert_exporter": "python",
   "pygments_lexer": "ipython3",
   "version": "3.6.4"
  }
 },
 "nbformat": 4,
 "nbformat_minor": 2
}
