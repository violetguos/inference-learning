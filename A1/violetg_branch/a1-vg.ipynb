{
 "cells": [
  {
   "cell_type": "code",
   "execution_count": 1,
   "metadata": {},
   "outputs": [
    {
     "name": "stderr",
     "output_type": "stream",
     "text": [
      "/usr/local/Cellar/python3/3.6.4_1/Frameworks/Python.framework/Versions/3.6/lib/python3.6/importlib/_bootstrap.py:219: RuntimeWarning: compiletime version 3.5 of module 'tensorflow.python.framework.fast_tensor_util' does not match runtime version 3.6\n",
      "  return f(*args, **kwds)\n"
     ]
    }
   ],
   "source": [
    "import tensorflow as tf\n",
    "from __future__ import print_function\n",
    "import numpy as np\n"
   ]
  },
  {
   "cell_type": "markdown",
   "metadata": {},
   "source": [
    "## A1 Q1\n",
    "Euclidean distance function, vectorized    "
   ]
  },
  {
   "cell_type": "code",
   "execution_count": 9,
   "metadata": {
    "scrolled": false
   },
   "outputs": [
    {
     "name": "stdout",
     "output_type": "stream",
     "text": [
      "x_squared.eval()\n",
      "[[1 1]\n",
      " [4 4]\n",
      " [9 9]]\n",
      "x_2_sum.eval()\n",
      "[ 2  8 18]\n",
      "[[ 2  2  2]\n",
      " [ 8  8  8]\n",
      " [18 18 18]]\n",
      "[[ 2  8 18]\n",
      " [ 2  8 18]\n",
      " [ 2  8 18]]\n",
      "----my func----\n",
      "[[0 2 8]\n",
      " [2 0 2]\n",
      " [8 2 0]]\n",
      "---diff square---\n",
      "[[0 2 8]\n",
      " [2 0 2]\n",
      " [8 2 0]]\n"
     ]
    }
   ],
   "source": [
    "def euclideanDistance(x, z):\n",
    "    '''\n",
    "    We vectorized the operation with matrix operations\n",
    "    the ||x - z ||^2 is = Sum(x - z)^2 = Sum from 1 to D\n",
    "    of (x^2 - 2xz + z^2)\n",
    "    \n",
    "    x^2 = x^T times x\n",
    "    z^2 = z^T times z\n",
    "    we can find the sum of each row by using the reduce sum function\n",
    "    \n",
    "    sum of -2xz \n",
    "    we can use matrix multiplication, x times z^T to obtain xz,\n",
    "    then multiply by -2\n",
    "    '''\n",
    "    n1 = x.shape[0]\n",
    "    n2 = z.shape[0]    \n",
    "    \n",
    "    x_squared = tf.square(x)\n",
    "    z_squared = tf.square(z) #tf.matmul(z ,tf.transpose(z))\n",
    "    print(\"x_squared.eval()\")\n",
    "    print(x_squared.eval())\n",
    "    ######coule be wrong here########\n",
    "    x_2_sum = tf.reduce_sum(x_squared, 1)\n",
    "    z_2_sum = tf.reduce_sum(z_squared, 1)\n",
    "    \n",
    "    x_2_sum = tf.transpose(x_2_sum)\n",
    "    z_2_sum = tf.transpose(z_2_sum)\n",
    "    #x_2_sum = tf.reshape(x_2_sum, [-1, 1])\n",
    "    #z_2_sum = tf.reshape(z_2_sum, [-1, 1])\n",
    "    print(\"x_2_sum.eval()\")\n",
    "    print(x_2_sum.eval())\n",
    "    \n",
    "    xz = tf.matmul(x, tf.transpose(z))\n",
    "    #print(xz.eval())\n",
    "    minus_2xz = tf.scalar_mul(-2, xz)\n",
    "    #print(minus_2xz.eval())\n",
    " \n",
    "    x_2_tile =tf.tile(tf.expand_dims(x_2_sum, 1), [1, n2])\n",
    "    z_2_tile = tf.tile(tf.expand_dims(z_2_sum ,1), [1, n1])\n",
    "    z_2_tile_T = tf.transpose(z_2_tile)\n",
    "    print(x_2_tile.eval())\n",
    "    print(z_2_tile_T.eval())\n",
    "    \n",
    "    result = x_2_tile + minus_2xz +z_2_tile_T\n",
    "    \n",
    "    return result\n",
    "\n",
    "def squared_dist(A): \n",
    "    expanded_a = tf.expand_dims(A, 1)\n",
    "    expanded_b = tf.expand_dims(A, 0)\n",
    "    distances = tf.reduce_sum(tf.squared_difference(expanded_a, expanded_b), 2)\n",
    "    return distances\n",
    "\n",
    "\n",
    "def testi():\n",
    "    A = tf.constant([[1, 1], [2,2], [3, 3]])\n",
    "    B = tf.constant([[1, 1], [2, 2],[3,3]])\n",
    "    res_mine = euclideanDistance(A, B)\n",
    "    \n",
    "    print(\"----my func----\")\n",
    "    print(res_mine.eval())\n",
    "    print(\"---diff square---\")\n",
    "    res_lib = squared_dist(A)\n",
    "    print(res_lib.eval())\n",
    "    \n",
    "with tf.Session() as sess1:\n",
    "    testi()\n",
    "    \n",
    "    \n"
   ]
  },
  {
   "cell_type": "markdown",
   "metadata": {},
   "source": [
    "## A1 Q2\n",
    "### part 1\n",
    "\n",
    "| x1^T | x2^T | .... |\n",
    "top k closest in x1^T indices are the neighbours\n",
    "\n",
    "\n",
    "yˆ(x∗) = YTr∗, where r∗ = [r1,...,rN],rn = 1/k\n",
    "0, otherwise.\n",
    "\n",
    "\n"
   ]
  },
  {
   "cell_type": "code",
   "execution_count": 20,
   "metadata": {},
   "outputs": [
    {
     "name": "stdout",
     "output_type": "stream",
     "text": [
      "[0 1]\n",
      "<class 'numpy.ndarray'>\n",
      "<class 'tensorflow.python.framework.ops.Tensor'>\n"
     ]
    },
    {
     "ename": "TypeError",
     "evalue": "'Tensor' object is not iterable.",
     "output_type": "error",
     "traceback": [
      "\u001b[0;31m---------------------------------------------------------------------------\u001b[0m",
      "\u001b[0;31mTypeError\u001b[0m                                 Traceback (most recent call last)",
      "\u001b[0;32m<ipython-input-20-49ef65f1888f>\u001b[0m in \u001b[0;36m<module>\u001b[0;34m()\u001b[0m\n\u001b[1;32m     31\u001b[0m \u001b[0mdist_mat\u001b[0m \u001b[0;34m=\u001b[0m \u001b[0mtf\u001b[0m\u001b[0;34m.\u001b[0m\u001b[0mconstant\u001b[0m\u001b[0;34m(\u001b[0m\u001b[0;34m[\u001b[0m \u001b[0;36m4\u001b[0m\u001b[0;34m,\u001b[0m \u001b[0;36m9\u001b[0m\u001b[0;34m,\u001b[0m \u001b[0;36m16\u001b[0m\u001b[0;34m,\u001b[0m \u001b[0;36m25\u001b[0m \u001b[0;34m]\u001b[0m\u001b[0;34m,\u001b[0m \u001b[0mtf\u001b[0m\u001b[0;34m.\u001b[0m\u001b[0mint32\u001b[0m\u001b[0;34m)\u001b[0m\u001b[0;34m\u001b[0m\u001b[0m\n\u001b[1;32m     32\u001b[0m \u001b[0mtopk\u001b[0m \u001b[0;34m=\u001b[0m \u001b[0mnearestIndices\u001b[0m\u001b[0;34m(\u001b[0m\u001b[0mdist_mat\u001b[0m\u001b[0;34m,\u001b[0m \u001b[0;36m2\u001b[0m\u001b[0;34m)\u001b[0m\u001b[0;34m\u001b[0m\u001b[0m\n\u001b[0;32m---> 33\u001b[0;31m \u001b[0mresponsibility\u001b[0m\u001b[0;34m(\u001b[0m\u001b[0mdist_mat\u001b[0m\u001b[0;34m,\u001b[0m \u001b[0;36m2\u001b[0m\u001b[0;34m,\u001b[0m \u001b[0;36m4\u001b[0m\u001b[0;34m)\u001b[0m\u001b[0;34m\u001b[0m\u001b[0m\n\u001b[0m\u001b[1;32m     34\u001b[0m \u001b[0;34m\u001b[0m\u001b[0m\n",
      "\u001b[0;32m<ipython-input-20-49ef65f1888f>\u001b[0m in \u001b[0;36mresponsibility\u001b[0;34m(_neighbours, _k, _n)\u001b[0m\n\u001b[1;32m     19\u001b[0m     \u001b[0mprint\u001b[0m\u001b[0;34m(\u001b[0m\u001b[0mtype\u001b[0m\u001b[0;34m(\u001b[0m\u001b[0m_neighbours\u001b[0m\u001b[0;34m)\u001b[0m\u001b[0;34m)\u001b[0m\u001b[0;34m\u001b[0m\u001b[0m\n\u001b[1;32m     20\u001b[0m     \u001b[0mone_over_k\u001b[0m \u001b[0;34m=\u001b[0m \u001b[0;36m1\u001b[0m\u001b[0;34m/\u001b[0m\u001b[0m_n\u001b[0m\u001b[0;34m\u001b[0m\u001b[0m\n\u001b[0;32m---> 21\u001b[0;31m     \u001b[0;32mfor\u001b[0m \u001b[0mi\u001b[0m \u001b[0;32min\u001b[0m \u001b[0m_neighbours\u001b[0m\u001b[0;34m:\u001b[0m\u001b[0;34m\u001b[0m\u001b[0m\n\u001b[0m\u001b[1;32m     22\u001b[0m         \u001b[0mrespon\u001b[0m\u001b[0;34m[\u001b[0m\u001b[0mi\u001b[0m\u001b[0;34m]\u001b[0m \u001b[0;34m+=\u001b[0m\u001b[0;36m1\u001b[0m\u001b[0;34m\u001b[0m\u001b[0m\n\u001b[1;32m     23\u001b[0m \u001b[0;34m\u001b[0m\u001b[0m\n",
      "\u001b[0;32m/usr/local/lib/python3.6/site-packages/tensorflow/python/framework/ops.py\u001b[0m in \u001b[0;36m__iter__\u001b[0;34m(self)\u001b[0m\n\u001b[1;32m    503\u001b[0m       \u001b[0mTypeError\u001b[0m\u001b[0;34m:\u001b[0m \u001b[0mwhen\u001b[0m \u001b[0minvoked\u001b[0m\u001b[0;34m.\u001b[0m\u001b[0;34m\u001b[0m\u001b[0m\n\u001b[1;32m    504\u001b[0m     \"\"\"\n\u001b[0;32m--> 505\u001b[0;31m     \u001b[0;32mraise\u001b[0m \u001b[0mTypeError\u001b[0m\u001b[0;34m(\u001b[0m\u001b[0;34m\"'Tensor' object is not iterable.\"\u001b[0m\u001b[0;34m)\u001b[0m\u001b[0;34m\u001b[0m\u001b[0m\n\u001b[0m\u001b[1;32m    506\u001b[0m \u001b[0;34m\u001b[0m\u001b[0m\n\u001b[1;32m    507\u001b[0m   \u001b[0;32mdef\u001b[0m \u001b[0m__bool__\u001b[0m\u001b[0;34m(\u001b[0m\u001b[0mself\u001b[0m\u001b[0;34m)\u001b[0m\u001b[0;34m:\u001b[0m\u001b[0;34m\u001b[0m\u001b[0m\n",
      "\u001b[0;31mTypeError\u001b[0m: 'Tensor' object is not iterable."
     ]
    }
   ],
   "source": [
    "#given starter code\n",
    "import numpy as np\n",
    "import matplotlib.pyplot as plt\n",
    "\n",
    "# my code part1 responsibility\n",
    "def nearestIndices(_dist_mat, _k):\n",
    "    with tf.Session() as sess:\n",
    "        #_dist_mat = tf.constant([ [4, 9], [16, 25] ], tf.int32)\n",
    "        nearest_k = tf.nn.top_k(tf.negative(_dist_mat), _k)\n",
    "        #print(_dist_mat.eval())\n",
    "        print(nearest_k.indices.eval())\n",
    "        indices_arr = nearest_k.indices.eval()\n",
    "        print(type(indices_arr))\n",
    "        return indices_arr\n",
    "\n",
    "def responsibility(_neighbours, _k, _n ):\n",
    "    respon = np.zeros(_n) #total number of data\n",
    "    #find intersection of _data and _neighbours\n",
    "    print(type(_neighbours))\n",
    "    one_over_k = 1/_n\n",
    "    for i in _neighbours:\n",
    "        respon[i] +=1\n",
    "        \n",
    "    print(respon)\n",
    "    \n",
    "    \n",
    "    \n",
    "    \n",
    "\n",
    "#unit testing\n",
    "dist_mat = tf.constant([ 4, 9, 16, 25 ], tf.int32)\n",
    "topk = nearestIndices(dist_mat, 2)\n",
    "responsibility(dist_mat, 2, 4)\n",
    "\n"
   ]
  },
  {
   "cell_type": "code",
   "execution_count": null,
   "metadata": {},
   "outputs": [],
   "source": [
    "np.random.seed(521)\n",
    "Data = np.linspace(1.0 , 10.0 , num =100) [:, np. newaxis]\n",
    "Target = np.sin( Data ) + 0.1 * np.power( Data , 2) \\\n",
    "         + 0.5 * np.random.randn(100 , 1)\n",
    "randIdx = np.arange(100)\n",
    "np.random.shuffle(randIdx)\n",
    "trainData, trainTarget  = Data[randIdx[:80]], Target[randIdx[:80]]\n",
    "validData, validTarget = Data[randIdx[80:90]], Target[randIdx[80:90]]\n",
    "testData, testTarget = Data[randIdx[90:100]], Target[randIdx[90:100]]\n",
    "\n",
    "def knn(_data, _target, _k):\n",
    "    #nearest indices\n",
    "    #responsbility\n",
    "    #maximum responsibility\n",
    "    \n",
    "    "
   ]
  }
 ],
 "metadata": {
  "kernelspec": {
   "display_name": "Python 3",
   "language": "python",
   "name": "python3"
  },
  "language_info": {
   "codemirror_mode": {
    "name": "ipython",
    "version": 3
   },
   "file_extension": ".py",
   "mimetype": "text/x-python",
   "name": "python",
   "nbconvert_exporter": "python",
   "pygments_lexer": "ipython3",
   "version": "3.6.4"
  }
 },
 "nbformat": 4,
 "nbformat_minor": 2
}
